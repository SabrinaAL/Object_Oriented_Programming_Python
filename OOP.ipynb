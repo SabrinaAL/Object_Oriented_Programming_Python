{
 "cells": [
  {
   "cell_type": "code",
   "execution_count": 1,
   "metadata": {},
   "outputs": [
    {
     "name": "stdout",
     "output_type": "stream",
     "text": [
      "ID = 1655\n",
      "Department: Engineer\n"
     ]
    }
   ],
   "source": [
    "class Employee:\n",
    "    # defining the properties \n",
    "    ID = 1655\n",
    "    department = \"Engineer\"\n",
    "# creating an object of the Employee class\n",
    "John = Employee()\n",
    "# printing properties of \n",
    "print(\"ID =\", John.ID)\n",
    "print(\"Department:\", John.department)\n"
   ]
  },
  {
   "cell_type": "code",
   "execution_count": 2,
   "metadata": {},
   "outputs": [
    {
     "name": "stdout",
     "output_type": "stream",
     "text": [
      "ID = 1655\n",
      "Department:  Engineer\n",
      "Title: Manager\n"
     ]
    }
   ],
   "source": [
    "class Employee:\n",
    "    # defining the properties \n",
    "    ID = None\n",
    "    department = None\n",
    "# creating an object of the Employee class\n",
    "John = Employee()\n",
    "# assigning values to properties of John \n",
    "John.ID = 1655\n",
    "John.department = \" Engineer\"\n",
    "# creating a new attribute for John\n",
    "John.title = \"Manager\"\n",
    "# Printing properties of John\n",
    "print(\"ID =\", John.ID)\n",
    "print(\"Department:\", John.department)\n",
    "print(\"Title:\", John.title)\n"
   ]
  },
  {
   "cell_type": "code",
   "execution_count": 3,
   "metadata": {},
   "outputs": [],
   "source": [
    "class Employee:\n",
    "    # defining the properties \n",
    "    def __init__(self, ID, department):\n",
    "        self.ID = ID\n",
    "        self.department = department\n",
    "# creating an object of the Employee class\n",
    "Anna = Employee(2565, \"Scientist\")\n"
   ]
  },
  {
   "cell_type": "code",
   "execution_count": 5,
   "metadata": {},
   "outputs": [
    {
     "name": "stdout",
     "output_type": "stream",
     "text": [
      "Anna\n",
      "ID : None\n",
      "Salary : 0\n",
      "John\n",
      "ID : 1655\n",
      "Salary : 2500\n"
     ]
    }
   ],
   "source": [
    "class Employee:\n",
    "    # defining the properties \n",
    "    def __init__(self, ID=None, salary=0):\n",
    "        self.ID = ID\n",
    "        self.salary = salary\n",
    "# creating an object of the Employee class with default parameters\n",
    "Anna = Employee()\n",
    "John = Employee(\"1655\", 2500)\n",
    "# Printing properties of Anna and John\n",
    "print(\"Anna\")\n",
    "print(\"ID :\", Anna.ID)\n",
    "print(\"Salary :\", Anna.salary)\n",
    "print(\"John\")\n",
    "print(\"ID :\", John.ID)\n",
    "print(\"Salary :\", John.salary)\n"
   ]
  },
  {
   "cell_type": "code",
   "execution_count": 6,
   "metadata": {},
   "outputs": [
    {
     "name": "stdout",
     "output_type": "stream",
     "text": [
      "Name: Anna\n",
      "Department Name: Engineer\n",
      "Name: John\n",
      "Department Name: Engineer\n"
     ]
    }
   ],
   "source": [
    "class Employee:\n",
    "    department = \"Engineer\" # class variables\n",
    "    def __init__(self, name):\n",
    "# creating instance variables\n",
    "        self.name = name \n",
    "e1 = Employee ('Anna')\n",
    "e2 = Employee ('John')\n",
    "print(\"Name:\", e1.name) # Name: Anna\n",
    "print(\"Department Name:\", e1. department) # Department Name: Engineer\n",
    "print(\"Name:\", e2.name) # Name: John\n",
    "print(\"Department Name:\", e2. department) \n"
   ]
  },
  {
   "cell_type": "code",
   "execution_count": 9,
   "metadata": {},
   "outputs": [
    {
     "name": "stdout",
     "output_type": "stream",
     "text": [
      "11666.666666666666\n"
     ]
    }
   ],
   "source": [
    "class Employee:\n",
    "    def __init__(self, ID=None, salary=None):\n",
    "        self.ID = ID\n",
    "        self.salary = salary\n",
    "    def salaryPerMonth(self):\n",
    "        return (self.salary / 12)\n",
    "Anna = Employee(3789, 140000)\n",
    "print(Anna.salaryPerMonth())\n"
   ]
  },
  {
   "cell_type": "code",
   "execution_count": 10,
   "metadata": {},
   "outputs": [
    {
     "name": "stdout",
     "output_type": "stream",
     "text": [
      "Engineer\n"
     ]
    }
   ],
   "source": [
    "class Employee:\n",
    "    department = \"Engineer\" # class variables\n",
    "    def __init__(self, name):\n",
    "# creating instance variables\n",
    "        self.name = name \n",
    "    @classmethod\n",
    "    def getDeptName(cls):\n",
    "        return cls.department\n",
    "print(Employee.getDeptName())\n"
   ]
  },
  {
   "cell_type": "code",
   "execution_count": 13,
   "metadata": {},
   "outputs": [
    {
     "name": "stdout",
     "output_type": "stream",
     "text": [
      "Test 1\n",
      "a = 1\n",
      "b = 2\n",
      "c = 3\n",
      "d = None\n",
      "Test 2\n",
      "a = 1\n",
      "b = 2\n",
      "c = 3\n",
      "d = 4\n"
     ]
    }
   ],
   "source": [
    "class Employee:\n",
    "    def __init__(self, ID=None, salary=None):\n",
    "        self.ID = ID\n",
    "        self.salary = salary\n",
    "    def tax(self):\n",
    "        return (self.salary * 0.2)\n",
    "    def salaryPerMonth(self):\n",
    "        return (self.salary / 12)\n",
    "    # method overloading\n",
    "    def test(self, a, b, c = 10, d=None):\n",
    "        print(\"a =\", a)\n",
    "        print(\"b =\", b)\n",
    "        print(\"c =\", c)\n",
    "        print(\"d =\", d)\n",
    "Anna = Employee()\n",
    "print(\"Test 1\")\n",
    "Anna.test(1, 2, 3)\n",
    "print(\"Test 2\")\n",
    "Anna.test(1, 2, 3, 4)\n"
   ]
  },
  {
   "cell_type": "code",
   "execution_count": 16,
   "metadata": {},
   "outputs": [
    {
     "name": "stdout",
     "output_type": "stream",
     "text": [
      "Area of rectangle is: 60\n",
      "Area of circle is: 153.958\n"
     ]
    }
   ],
   "source": [
    "class Shape:\n",
    "    # initializing sides of all shapes to 0\n",
    "    def __init__(self):  \n",
    "        self.sides = 0\n",
    "    def getArea(self):\n",
    "        pass\n",
    "# derived form Shape class\n",
    "class Rectangle(Shape):  \n",
    "    def __init__(self, width=0, height=0):\n",
    "        self.width = width\n",
    "        self.height = height\n",
    "        self.sides = 4\n",
    "    # method to calculate Area\n",
    "    def getArea(self):\n",
    "        return (self.width * self.height)\n",
    "# derived form Shape class\n",
    "class Circle(Shape):  \n",
    "    def __init__(self, radius=0):\n",
    "        self.radius = radius\n",
    "    # method to calculate Area\n",
    "    def getArea(self):\n",
    "        return (self.radius * self.radius * 3.142)\n",
    "print(\"Area of rectangle is:\", str(Rectangle(6, 10).getArea()))\n",
    "print(\"Area of circle is:\", str(Circle(7).getArea()))\n"
   ]
  },
  {
   "cell_type": "code",
   "execution_count": 17,
   "metadata": {},
   "outputs": [
    {
     "name": "stdout",
     "output_type": "stream",
     "text": [
      "real of addition: 5\n",
      "imaginary of addition: 12\n"
     ]
    }
   ],
   "source": [
    "class ComplexNum:\n",
    "    def __init__(self, real=0, img=0):\n",
    "        self.real = real\n",
    "        self.img = img\n",
    "    # overloading the `+` operator\n",
    "    def __add__(self, other):  \n",
    "        temp = ComplexNum (self.real + other.real, self.img + other.img)\n",
    "        return temp\n",
    "obj1 = ComplexNum (3, 7)\n",
    "obj2 = ComplexNum (2, 5)\n",
    "addition = obj1 + obj2\n",
    "print(\"real of addition:\", addition.real)\n",
    "print(\"imaginary of addition:\", addition.img)\n"
   ]
  },
  {
   "cell_type": "code",
   "execution_count": 18,
   "metadata": {},
   "outputs": [
    {
     "name": "stdout",
     "output_type": "stream",
     "text": [
      "ID: 3789\n",
      "2500\n"
     ]
    }
   ],
   "source": [
    "class Employee:\n",
    "    def __init__(self, ID, salary):\n",
    "        # all properties are public\n",
    "        self.ID = ID\n",
    "        self.salary = salary\n",
    "    def displayID(self):\n",
    "        print(\"ID:\", self.ID)\n",
    "John = Employee(3789, 2500)\n",
    "John.displayID()\n",
    "print(John.salary)\n"
   ]
  },
  {
   "cell_type": "code",
   "execution_count": 19,
   "metadata": {},
   "outputs": [
    {
     "name": "stdout",
     "output_type": "stream",
     "text": [
      "ID: 3789\n"
     ]
    },
    {
     "ename": "AttributeError",
     "evalue": "'Employee' object has no attribute '__salary'",
     "output_type": "error",
     "traceback": [
      "\u001b[0;31m---------------------------------------------------------------------------\u001b[0m",
      "\u001b[0;31mAttributeError\u001b[0m                            Traceback (most recent call last)",
      "\u001b[0;32m<ipython-input-19-e684974a44b0>\u001b[0m in \u001b[0;36m<module>\u001b[0;34m\u001b[0m\n\u001b[1;32m      5\u001b[0m \u001b[0mJohn\u001b[0m \u001b[0;34m=\u001b[0m \u001b[0mEmployee\u001b[0m\u001b[0;34m(\u001b[0m\u001b[0;36m3789\u001b[0m\u001b[0;34m,\u001b[0m \u001b[0;36m2500\u001b[0m\u001b[0;34m)\u001b[0m\u001b[0;34m\u001b[0m\u001b[0;34m\u001b[0m\u001b[0m\n\u001b[1;32m      6\u001b[0m \u001b[0mprint\u001b[0m\u001b[0;34m(\u001b[0m\u001b[0;34m\"ID:\"\u001b[0m\u001b[0;34m,\u001b[0m \u001b[0mJohn\u001b[0m\u001b[0;34m.\u001b[0m\u001b[0mID\u001b[0m\u001b[0;34m)\u001b[0m\u001b[0;34m\u001b[0m\u001b[0;34m\u001b[0m\u001b[0m\n\u001b[0;32m----> 7\u001b[0;31m \u001b[0mprint\u001b[0m\u001b[0;34m(\u001b[0m\u001b[0;34m\"Salary:\"\u001b[0m\u001b[0;34m,\u001b[0m \u001b[0mJohn\u001b[0m\u001b[0;34m.\u001b[0m\u001b[0m__salary\u001b[0m\u001b[0;34m)\u001b[0m \u001b[0;31m# this will cause an error\u001b[0m\u001b[0;34m\u001b[0m\u001b[0;34m\u001b[0m\u001b[0m\n\u001b[0m",
      "\u001b[0;31mAttributeError\u001b[0m: 'Employee' object has no attribute '__salary'"
     ]
    }
   ],
   "source": [
    "class Employee:\n",
    "    def __init__(self, ID, salary):\n",
    "        self.ID = ID\n",
    "        self.__salary = salary # salary is a private property\n",
    "John = Employee(3789, 2500)\n",
    "print(\"ID:\", John.ID)\n",
    "print(\"Salary:\", John.__salary) # this will cause an error\n"
   ]
  },
  {
   "cell_type": "code",
   "execution_count": 20,
   "metadata": {},
   "outputs": [
    {
     "name": "stdout",
     "output_type": "stream",
     "text": [
      "2500\n"
     ]
    }
   ],
   "source": [
    "class Employee:\n",
    "    def __init__(self, ID, salary):\n",
    "        self.ID = ID\n",
    "        self.__salary = salary  # salary is a private property\n",
    "John = Employee(3789, 2500)\n",
    "print(John._Employee__salary)  # accessing a private property\n"
   ]
  },
  {
   "cell_type": "code",
   "execution_count": 21,
   "metadata": {},
   "outputs": [
    {
     "name": "stdout",
     "output_type": "stream",
     "text": [
      "Salary: 2500\n"
     ]
    },
    {
     "ename": "AttributeError",
     "evalue": "'Employee' object has no attribute '__displayID'",
     "output_type": "error",
     "traceback": [
      "\u001b[0;31m---------------------------------------------------------------------------\u001b[0m",
      "\u001b[0;31mAttributeError\u001b[0m                            Traceback (most recent call last)",
      "\u001b[0;32m<ipython-input-21-48441c1a641c>\u001b[0m in \u001b[0;36m<module>\u001b[0;34m\u001b[0m\n\u001b[1;32m      9\u001b[0m \u001b[0mJohn\u001b[0m \u001b[0;34m=\u001b[0m \u001b[0mEmployee\u001b[0m\u001b[0;34m(\u001b[0m\u001b[0;36m3789\u001b[0m\u001b[0;34m,\u001b[0m \u001b[0;36m2500\u001b[0m\u001b[0;34m)\u001b[0m\u001b[0;34m\u001b[0m\u001b[0;34m\u001b[0m\u001b[0m\n\u001b[1;32m     10\u001b[0m \u001b[0mJohn\u001b[0m\u001b[0;34m.\u001b[0m\u001b[0mdisplaySalary\u001b[0m\u001b[0;34m(\u001b[0m\u001b[0;34m)\u001b[0m\u001b[0;34m\u001b[0m\u001b[0;34m\u001b[0m\u001b[0m\n\u001b[0;32m---> 11\u001b[0;31m \u001b[0mJohn\u001b[0m\u001b[0;34m.\u001b[0m\u001b[0m__displayID\u001b[0m\u001b[0;34m(\u001b[0m\u001b[0;34m)\u001b[0m  \u001b[0;31m# this will generate an error\u001b[0m\u001b[0;34m\u001b[0m\u001b[0;34m\u001b[0m\u001b[0m\n\u001b[0m",
      "\u001b[0;31mAttributeError\u001b[0m: 'Employee' object has no attribute '__displayID'"
     ]
    }
   ],
   "source": [
    "class Employee:\n",
    "    def __init__(self, ID, salary):\n",
    "        self.ID = ID\n",
    "        self.__salary = salary  # salary is a private property\n",
    "    def displaySalary(self):  # displaySalary is a public method\n",
    "        print(\"Salary:\", self.__salary)\n",
    "    def __displayID(self):  # displayID is a private method\n",
    "        print(\"ID:\", self.ID)\n",
    "John = Employee(3789, 2500)\n",
    "John.displaySalary()\n",
    "John.__displayID()  # this will generate an error\n"
   ]
  },
  {
   "cell_type": "code",
   "execution_count": 24,
   "metadata": {},
   "outputs": [
    {
     "name": "stdout",
     "output_type": "stream",
     "text": [
      "None\n"
     ]
    }
   ],
   "source": [
    "s = [1, 2, 3]\n",
    "\n",
    "s1 = [4, 5, 6]\n",
    "\n",
    "print(s1.append(list(s)))"
   ]
  },
  {
   "cell_type": "code",
   "execution_count": 25,
   "metadata": {},
   "outputs": [
    {
     "name": "stdout",
     "output_type": "stream",
     "text": [
      "Before setting: Anna B.\n",
      "After setting: Anna K.\n"
     ]
    }
   ],
   "source": [
    "class Employee:\n",
    "    def __init__(self, name=None):  # defining initializer\n",
    "        self.__name = name\n",
    "    def setUsername(self, n):\n",
    "        self.__name = n\n",
    "    def getUsername(self):\n",
    "        return (self.__name)\n",
    "Anna = Employee('Anna B.')\n",
    "print('Before setting:', Anna.getUsername())\n",
    "Anna.setUsername('Anna K.')\n",
    "print('After setting:', Anna.getUsername())\n",
    "\n",
    "\n",
    "\n",
    "\n"
   ]
  },
  {
   "cell_type": "code",
   "execution_count": 26,
   "metadata": {},
   "outputs": [
    {
     "ename": "TypeError",
     "evalue": "Can't instantiate abstract class Shape with abstract methods area, perimeter",
     "output_type": "error",
     "traceback": [
      "\u001b[0;31m---------------------------------------------------------------------------\u001b[0m",
      "\u001b[0;31mTypeError\u001b[0m                                 Traceback (most recent call last)",
      "\u001b[0;32m<ipython-input-26-6f17047f0964>\u001b[0m in \u001b[0;36m<module>\u001b[0;34m\u001b[0m\n\u001b[1;32m     17\u001b[0m     \u001b[0;32mdef\u001b[0m \u001b[0mperimeter\u001b[0m\u001b[0;34m(\u001b[0m\u001b[0mself\u001b[0m\u001b[0;34m)\u001b[0m\u001b[0;34m:\u001b[0m\u001b[0;34m\u001b[0m\u001b[0;34m\u001b[0m\u001b[0m\n\u001b[1;32m     18\u001b[0m         \u001b[0;32mreturn\u001b[0m \u001b[0;34m(\u001b[0m\u001b[0;36m4\u001b[0m \u001b[0;34m*\u001b[0m \u001b[0mself\u001b[0m\u001b[0;34m.\u001b[0m\u001b[0mlength\u001b[0m\u001b[0;34m)\u001b[0m\u001b[0;34m\u001b[0m\u001b[0;34m\u001b[0m\u001b[0m\n\u001b[0;32m---> 19\u001b[0;31m \u001b[0mshape\u001b[0m \u001b[0;34m=\u001b[0m \u001b[0mShape\u001b[0m\u001b[0;34m(\u001b[0m\u001b[0;34m)\u001b[0m\u001b[0;34m\u001b[0m\u001b[0;34m\u001b[0m\u001b[0m\n\u001b[0m\u001b[1;32m     20\u001b[0m \u001b[0;31m# The code will not compile since Shape has abstract methods without method definitions in it\u001b[0m\u001b[0;34m\u001b[0m\u001b[0;34m\u001b[0m\u001b[0;34m\u001b[0m\u001b[0m\n",
      "\u001b[0;31mTypeError\u001b[0m: Can't instantiate abstract class Shape with abstract methods area, perimeter"
     ]
    }
   ],
   "source": [
    "from abc import ABC, abstractmethod\n",
    "# Shape is a child class of ABC, it will \n",
    "# prevent users from making a Shape class \n",
    "# object, because Shape object cannot stand on # its own.\n",
    "class Shape(ABC):  \n",
    "    @abstractmethod\n",
    "    def area(self):\n",
    "        pass\n",
    "    @abstractmethod\n",
    "    def perimeter(self):\n",
    "        pass\n",
    "class Square(Shape):\n",
    "    def __init__(self, length):\n",
    "        self.length = length\n",
    "    def area(self):\n",
    "        return (self.length * self.length)\n",
    "    def perimeter(self):\n",
    "        return (4 * self.length)\n",
    "shape = Shape()\n",
    "# The code will not compile since Shape has abstract methods without method definitions in it\n"
   ]
  },
  {
   "cell_type": "code",
   "execution_count": 28,
   "metadata": {},
   "outputs": [
    {
     "name": "stdout",
     "output_type": "stream",
     "text": [
      "Manufacturer: Toyota\n",
      "Model: 2019\n",
      "Name: 4\n"
     ]
    }
   ],
   "source": [
    "class Vehicle: # defining the parent class\n",
    "    def __init__(self, make, model):\n",
    "        self.make = make\n",
    "        self.model = model\n",
    "    # print method in the parent class\n",
    "    def printDetails(self):\n",
    "        print(\"Manufacturer:\", self.make)\n",
    "        print(\"Model:\", self.model)\n",
    "class Car(Vehicle): # defining the child class\n",
    "    def __init__(self, make, model, doors):\n",
    "        Vehicle.__init__(self, make, model)\n",
    "        self.doors = doors\n",
    "    # print method in the child class\n",
    "    def printCarDetails(self):\n",
    "        self.printDetails()\n",
    "        print(\"Name:\", self.doors)\n",
    "# creating object of the Car class\n",
    "car = Car(\"Toyota\", \"2019\", 4)\n",
    "car.printCarDetails()\n"
   ]
  },
  {
   "cell_type": "code",
   "execution_count": 29,
   "metadata": {},
   "outputs": [
    {
     "name": "stdout",
     "output_type": "stream",
     "text": [
      "Manufacturer: Toyota\n",
      "Model: 2019\n",
      "Name: 4\n"
     ]
    }
   ],
   "source": [
    "class Vehicle: # defining the parent class\n",
    "    def __init__(self, make, model):\n",
    "        self.make = make\n",
    "        self.model = model\n",
    "    # print method in the parent class\n",
    "    def printDetails(self):\n",
    "        print(\"Manufacturer:\", self.make)\n",
    "        print(\"Model:\", self.model)\n",
    "class Car(Vehicle): # defining the child class\n",
    "    def __init__(self, make, model, doors):\n",
    "        super().__init__(make, model)\n",
    "        self.doors = doors\n",
    "    # print method in the child class\n",
    "    def printCarDetails(self):\n",
    "        self.printDetails()\n",
    "        print(\"Name:\", self.doors)\n",
    "# creating object of the Car class\n",
    "car = Car(\"Toyota\", \"2019\", 4)\n",
    "car.printCarDetails()\n"
   ]
  },
  {
   "cell_type": "code",
   "execution_count": 34,
   "metadata": {},
   "outputs": [
    {
     "name": "stdout",
     "output_type": "stream",
     "text": [
      "I am from the Vehicle Class\n",
      "I am from the Car Class\n"
     ]
    }
   ],
   "source": [
    "class Vehicle:  # defining the parent class\n",
    "    # print method in the parent class\n",
    "    def printOut(self):  \n",
    "        print(\"I am from the Vehicle Class\")\n",
    "class Car(Vehicle):  # defining the child class\n",
    "    # print method in the child class\n",
    "    def printOut(self):\n",
    "        super().printOut ()\n",
    "        print(\"I am from the Car Class\")\n",
    "# creating object of the Car class\n",
    "Honda = Car() \n",
    "Honda.printOut ()  # calling the Car class method printOut()\n"
   ]
  },
  {
   "cell_type": "code",
   "execution_count": 35,
   "metadata": {},
   "outputs": [
    {
     "name": "stdout",
     "output_type": "stream",
     "text": [
      "Speed is set to 70\n",
      "Engine is now running.\n"
     ]
    }
   ],
   "source": [
    "class Vehicle:  # parent class\n",
    "    # defining the set\n",
    "    def setSpeed(self, speed):  \n",
    "        self.Speed = speed\n",
    "        print(\"Speed is set to\", self.Speed)\n",
    "\n",
    "class Car(Vehicle):  # child class\n",
    "    def startEngine(self):\n",
    "        print(\"Engine is now running.\")\n",
    "# creating object of the Car class\n",
    "Honda = Car()  \n",
    "# accessing method from the parent class\n",
    "Honda.setSpeed(70) \n",
    "# accessing method from its own class\n",
    "Honda.startEngine() \n"
   ]
  },
  {
   "cell_type": "code",
   "execution_count": 36,
   "metadata": {},
   "outputs": [
    {
     "name": "stdout",
     "output_type": "stream",
     "text": [
      "Speed is set to 90\n",
      "Engine is now running.\n"
     ]
    }
   ],
   "source": [
    "class Vehicle:  # parent class\n",
    "    # defining the set\n",
    "    def setSpeed(self, speed):  \n",
    "        self.Speed = speed\n",
    "        print(\"Speed is set to\", self.Speed)\n",
    "class Car(Vehicle):  # child class \n",
    "    def startEngine(self):\n",
    "        print(\"Engine is now running.\")\n",
    "class Hybrid(Car):  # child class of Car\n",
    "    def turnOnHybrid(self):\n",
    "        print(\"Hybrid mode is now on.\")\n",
    "# creating an object of the Hybrid class\n",
    "ToyotaPrius = Hybrid()\n",
    "# accessing methods from the parent class  \n",
    "ToyotaPrius.setSpeed(90)\n",
    "# accessing method from the parent class  \n",
    "ToyotaPrius.startEngine ()\n",
    "# accessing method from the parent \n"
   ]
  },
  {
   "cell_type": "code",
   "execution_count": 38,
   "metadata": {},
   "outputs": [
    {
     "name": "stdout",
     "output_type": "stream",
     "text": [
      "Speed is set to 100\n",
      "Speed is set to 40\n"
     ]
    }
   ],
   "source": [
    "class Vehicle:  # parent class\n",
    "    # defining the set\n",
    "    def setSpeed(self, speed):  \n",
    "        self.Speed = speed\n",
    "        print(\"Speed is set to\", self.Speed)\n",
    "\n",
    "class Car(Vehicle):  # child class of Vehicle\n",
    "    pass\n",
    "\n",
    "class Motorcycle(Vehicle):  # child class of Vehicle\n",
    "    pass\n",
    "# creating object of the Car class\n",
    "Crysler = Car()  \n",
    "# accessing method from the parent class\n",
    "Crysler.setSpeed(100)  \n",
    "# creating an object of the Motorcycle class\n",
    "BMW = Motorcycle()  \n",
    "# accessing method from the parent class\n",
    "BMW.setSpeed(40)\n"
   ]
  },
  {
   "cell_type": "code",
   "execution_count": 39,
   "metadata": {},
   "outputs": [
    {
     "name": "stdout",
     "output_type": "stream",
     "text": [
      "Engine Power: 2000 CC\n",
      "Battery Capacity: 250 W\n"
     ]
    }
   ],
   "source": [
    "class Engine():  \n",
    "    def setEngine(self, engine):\n",
    "        self.engine = engine\n",
    "class ElectricEngine():  \n",
    "    def setBattery(self, battery):\n",
    "        self.battery = battery\n",
    "# Child class inherited from Engine and ElectricEngine\n",
    "class HybridEngine(Engine, ElectricEngine):\n",
    "    def printDetails(self):\n",
    "        print(\"Engine Power:\", self. engine)\n",
    "        print(\"Battery Capacity:\", self. battery)\n",
    "car = HybridEngine()\n",
    "car.setBattery (\"250 W\")\n",
    "car.setEngine(\"2000 CC\")\n",
    "car.printDetails()\n"
   ]
  },
  {
   "cell_type": "code",
   "execution_count": 42,
   "metadata": {},
   "outputs": [
    {
     "name": "stdout",
     "output_type": "stream",
     "text": [
      "Engine: 2000 CC\n",
      "Tank: 20 Liters\n",
      "Battery: 250 W\n"
     ]
    }
   ],
   "source": [
    "class Engine:  # Parent class\n",
    "    def setEngine(self, engine):\n",
    "        self.engine = engine\n",
    "# Child class inherited from Engine\n",
    "class TankCapacity(Engine):  \n",
    "    def setTank(self, tank):\n",
    "        self.tank = tank\n",
    "# Child class inherited from Engine\n",
    "class ElectricEngine(Engine):  \n",
    "    def setBattery(self, battery):\n",
    "        self.battery = battery\n",
    "# Child class inherited from TankCapacity and ElectricEngine\n",
    "class HybridEngine(Tank, ElectricEngine):\n",
    "    def printDetails(self):\n",
    "        print(\"Engine:\", self.engine)\n",
    "        print(\"Tank:\", self.tank)\n",
    "        print(\"Battery:\", self.battery)\n",
    "car = HybridEngine()\n",
    "car.setEngine(\"2000 CC\")\n",
    "car.setBattery (\"250 W\")\n",
    "car.setTank (\"20 Liters\")\n",
    "car.printDetails()\n"
   ]
  },
  {
   "cell_type": "code",
   "execution_count": 43,
   "metadata": {},
   "outputs": [
    {
     "name": "stdout",
     "output_type": "stream",
     "text": [
      "Engine: 2000 CC\n",
      "Tank: 20 Liters\n",
      "Battery: 250 W\n"
     ]
    }
   ],
   "source": [
    "class Engine:  # Parent class\n",
    "    def setEngine(self, engine):\n",
    "        self.engine = engine\n",
    "# Child class inherited from Engine\n",
    "class TankCapacity(Engine):  \n",
    "    def setTank(self, tank):\n",
    "        self.tank = tank\n",
    "# Child class inherited from Engine\n",
    "class ElectricEngine(Engine):  \n",
    "    def setBattery(self, battery):\n",
    "        self.battery = battery\n",
    "# Child class inherited from TankCapacity and ElectricEngine\n",
    "class HybridEngine(Tank, ElectricEngine):\n",
    "    def printDetails(self):\n",
    "        print(\"Engine:\", self.engine)\n",
    "        print(\"Tank:\", self.tank)\n",
    "        print(\"Battery:\", self.battery)\n",
    "car = HybridEngine()\n",
    "car.setEngine(\"2000 CC\")\n",
    "car.setBattery (\"250 W\")\n",
    "car.setTank (\"20 Liters\")\n",
    "car.printDetails()\n"
   ]
  },
  {
   "cell_type": "code",
   "execution_count": null,
   "metadata": {},
   "outputs": [],
   "source": []
  }
 ],
 "metadata": {
  "kernelspec": {
   "display_name": "Python 3",
   "language": "python",
   "name": "python3"
  },
  "language_info": {
   "codemirror_mode": {
    "name": "ipython",
    "version": 3
   },
   "file_extension": ".py",
   "mimetype": "text/x-python",
   "name": "python",
   "nbconvert_exporter": "python",
   "pygments_lexer": "ipython3",
   "version": "3.8.3"
  }
 },
 "nbformat": 4,
 "nbformat_minor": 4
}
